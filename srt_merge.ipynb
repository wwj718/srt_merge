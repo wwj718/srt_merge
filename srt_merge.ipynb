{
 "cells": [
  {
   "cell_type": "code",
   "execution_count": 1,
   "metadata": {
    "collapsed": false
   },
   "outputs": [
    {
     "name": "stdout",
     "output_type": "stream",
     "text": [
      "/Users/wwj/Downloads/test\n"
     ]
    }
   ],
   "source": [
    "cd /Users/wwj/Downloads/test"
   ]
  },
  {
   "cell_type": "code",
   "execution_count": 2,
   "metadata": {
    "collapsed": false
   },
   "outputs": [
    {
     "name": "stdout",
     "output_type": "stream",
     "text": [
      "oc-srt-1427970012101.srt  oc-srt-1427970019939.srt\r\n"
     ]
    }
   ],
   "source": [
    "ls\n",
    "#oc-srt-1427970012101.srt 中文\n",
    "#oc-srt-1427970019939.srt 英文"
   ]
  },
  {
   "cell_type": "code",
   "execution_count": 47,
   "metadata": {
    "collapsed": false
   },
   "outputs": [],
   "source": [
    "with open(\"oc-srt-1427970012101.srt\") as f:\n",
    "    lines1 = f.readlines() #中文"
   ]
  },
  {
   "cell_type": "code",
   "execution_count": null,
   "metadata": {
    "collapsed": true
   },
   "outputs": [],
   "source": []
  },
  {
   "cell_type": "code",
   "execution_count": 48,
   "metadata": {
    "collapsed": true
   },
   "outputs": [],
   "source": [
    "with open(\"oc-srt-1427970019939.srt\") as f:\n",
    "    lines2 = f.readlines() #英文"
   ]
  },
  {
   "cell_type": "code",
   "execution_count": 62,
   "metadata": {
    "collapsed": false
   },
   "outputs": [
    {
     "data": {
      "text/plain": [
       "(4400, 4400)"
      ]
     },
     "execution_count": 62,
     "metadata": {},
     "output_type": "execute_result"
    }
   ],
   "source": [
    "len(lines1),len(lines2)"
   ]
  },
  {
   "cell_type": "code",
   "execution_count": null,
   "metadata": {
    "collapsed": true
   },
   "outputs": [],
   "source": [
    "#假设不一致，找出不一致\n",
    "for i,v in enumerate(lines1):\n",
    "    if (i)%4==0:\n",
    "        #print v\n",
    "        if lines1[i]!=lines2[i]:\n",
    "            print i\n",
    "            \n",
    "        #print \"错误:{}\".format(v)\n",
    "        #j=j+1\n",
    "        \n",
    "    #print v\n",
    "    #if i > 100 :\n",
    "    #    break\n",
    "\n"
   ]
  },
  {
   "cell_type": "code",
   "execution_count": 49,
   "metadata": {
    "collapsed": false
   },
   "outputs": [
    {
     "name": "stdout",
     "output_type": "stream",
     "text": [
      "1100\n"
     ]
    }
   ],
   "source": [
    "#把line1中文取出来 放到line2上边\n",
    "#2 6 10  2+4x\n",
    "chineses = [value for (index, value) in enumerate(lines1) if (index-2)%4==0]\n",
    "print len(chineses) #ok\n",
    "for i in chineses:\n",
    "    #print i\n",
    "    pass \n",
    "#print chineses\n",
    "\n"
   ]
  },
  {
   "cell_type": "code",
   "execution_count": null,
   "metadata": {
    "collapsed": true
   },
   "outputs": [],
   "source": []
  },
  {
   "cell_type": "code",
   "execution_count": null,
   "metadata": {
    "collapsed": true
   },
   "outputs": [],
   "source": []
  },
  {
   "cell_type": "code",
   "execution_count": 53,
   "metadata": {
    "collapsed": false
   },
   "outputs": [],
   "source": [
    "a=open(\"ok.txt\",\"w\")"
   ]
  },
  {
   "cell_type": "code",
   "execution_count": null,
   "metadata": {
    "collapsed": true
   },
   "outputs": [],
   "source": [
    "a.writelines"
   ]
  },
  {
   "cell_type": "code",
   "execution_count": null,
   "metadata": {
    "collapsed": true
   },
   "outputs": [],
   "source": []
  },
  {
   "cell_type": "code",
   "execution_count": null,
   "metadata": {
    "collapsed": true
   },
   "outputs": [],
   "source": [
    "#1,5,9"
   ]
  },
  {
   "cell_type": "code",
   "execution_count": 67,
   "metadata": {
    "collapsed": false
   },
   "outputs": [],
   "source": [
    "new_lines=[]\n",
    "j = 0\n",
    "for (index, value) in enumerate(lines2):\n",
    "    new_lines.append(value)\n",
    "    if  (index-1)%4==0:\n",
    "        #print (index,value)\n",
    "        new_lines.append(chineses[j])\n",
    "        j=j+1\n",
    "    \n",
    "\n",
    "with open(\"ok.srt\",\"w\") as out:\n",
    "    out.writelines(new_lines)\n"
   ]
  },
  {
   "cell_type": "code",
   "execution_count": null,
   "metadata": {
    "collapsed": true
   },
   "outputs": [],
   "source": []
  },
  {
   "cell_type": "code",
   "execution_count": 1,
   "metadata": {
    "collapsed": false
   },
   "outputs": [],
   "source": [
    "#with open(\"ok.srt\",\"r\") as inputfile:\n",
    "#    print inputfile.read()"
   ]
  },
  {
   "cell_type": "code",
   "execution_count": null,
   "metadata": {
    "collapsed": true
   },
   "outputs": [],
   "source": []
  }
 ],
 "metadata": {
  "kernelspec": {
   "display_name": "Python 2",
   "language": "python",
   "name": "python2"
  },
  "language_info": {
   "codemirror_mode": {
    "name": "ipython",
    "version": 2
   },
   "file_extension": ".py",
   "mimetype": "text/x-python",
   "name": "python",
   "nbconvert_exporter": "python",
   "pygments_lexer": "ipython2",
   "version": "2.7.5"
  }
 },
 "nbformat": 4,
 "nbformat_minor": 0
}
